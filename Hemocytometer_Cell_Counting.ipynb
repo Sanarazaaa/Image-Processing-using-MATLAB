{
  "nbformat": 4,
  "nbformat_minor": 0,
  "metadata": {
    "colab": {
      "provenance": [],
      "authorship_tag": "ABX9TyOkvcs3Py+ju4hat9kA88kP",
      "include_colab_link": true
    },
    "kernelspec": {
      "name": "python3",
      "display_name": "Python 3"
    },
    "language_info": {
      "name": "python"
    }
  },
  "cells": [
    {
      "cell_type": "markdown",
      "metadata": {
        "id": "view-in-github",
        "colab_type": "text"
      },
      "source": [
        "<a href=\"https://colab.research.google.com/github/Sanarazaaa/Image-Processing-using-MATLAB/blob/main/Hemocytometer_Cell_Counting.ipynb\" target=\"_parent\"><img src=\"https://colab.research.google.com/assets/colab-badge.svg\" alt=\"Open In Colab\"/></a>"
      ]
    },
    {
      "cell_type": "code",
      "execution_count": null,
      "metadata": {
        "id": "mqIDQbMHKbJR"
      },
      "outputs": [],
      "source": [
        "clearvars; close all; # clearvars: Clears all variables from the workspace.\n",
        "\n",
        "# close all closes all of the variables\n",
        "im = imread('testing_1.jpg');\n",
        "\n",
        "\n",
        "# If the image has 3 color channels (RGB), convert it to grayscale using rgb2gray.\n",
        "# If it's already grayscale, use it as is.\n",
        "\n",
        "if size(im,3) == 3\n",
        "    im_gray = rgb2gray(im);\n",
        "else\n",
        "    im_gray = im;\n",
        "end\n",
        "\n",
        "# Enhances contrast by adjusting intensity values: stretches intensity values between 0.3 and 0.7 to full range (0 to 1).\n",
        "im_adjusted = imadjust(im_gray, [0.3 0.7], []);\n",
        "im_filtered = imgaussfilt(im_adjusted, 2);  # Apply Gaussian blur to reduce noise\n",
        "\n",
        "\n",
        "[height, width] = size(im_gray); # Retrieves the image dimensions: number of rows (height) and columns (width).\n",
        "\n",
        "# rmin and rmax: expected minimum and maximum radius of the cells. sensitivity: controls how aggressively the algorithm detects circles. EdgeThreshold: determines how strong edges must be to be considered part of a circle.\n",
        "\n",
        "rmin = 4;\n",
        "rmax = 12;\n",
        "sensitivity = 0.8;\n",
        "EdgeThreshold = 0.2;\n",
        "\n",
        "\n",
        "figure(1)\n",
        "imshow(im)\n",
        "hold on # hold on: allows adding graphics (like circles or lines) on top of the image.\n",
        "\n",
        "\n",
        "[centers, radii] = imfindcircles(im_filtered, [rmin rmax], ...\n",
        "    'ObjectPolarity', 'bright', ...\n",
        "    'Sensitivity', sensitivity, ...\n",
        "    'Method', 'TwoStage', ...\n",
        "    'EdgeThreshold', EdgeThreshold);\n",
        "\n",
        "\n",
        "# Uses imfindcircles to detect bright circular objects (cells) in the preprocessed image.\n",
        "#Returns centers (x,y coordinates) and radii (size of each detected circle).\n",
        "\n",
        "right_boundary = width - 29;\n",
        "bottom_boundary = height - 3;\n",
        "\n",
        "\n",
        "cell_count = 0;\n",
        "\n",
        "if ~isempty(centers)\n",
        "    for i = 1:length(centers)\n",
        "        x = centers(i,1);\n",
        "        y = centers(i,2);\n",
        "        r = radii(i);\n",
        "\n",
        "        touches_right_boundary = (x + r) >= right_boundary;\n",
        "        touches_bottom_boundary = (y + r) >= bottom_boundary;\n",
        "        if ~touches_right_boundary && ~touches_bottom_boundary\n",
        "            cell_count = cell_count + 1;\n",
        "            viscircles([x,y], r, 'Color', 'g', 'LineWidth', 1);\n",
        "        else\n",
        "            viscircles([x,y], r, 'Color', 'r', 'LineWidth', 1);\n",
        "        end\n",
        "    end\n",
        "end\n",
        "\n",
        "line([right_boundary right_boundary], [0 height], 'Color', 'y', 'LineStyle', '--');\n",
        "line([0 width], [bottom_boundary bottom_boundary], 'Color', 'y', 'LineStyle', '--');\n",
        "\n",
        "\n",
        "square_volume_ml = 0.0001;\n",
        "concentration = cell_count / square_volume_ml;\n",
        "\n",
        "text(10, 30, sprintf('Counted cells: %d', cell_count), ...\n",
        "    'Color', 'green', 'FontSize', 12, 'BackgroundColor', 'black');\n",
        "\n",
        "title('Bright Cell Count (Excluding Boundary Regions)');\n",
        "hold off\n",
        "\n",
        "fprintf('\\nHemocytometer Cell Count Results:\\n');\n",
        "fprintf('----------------------------------------\\n');\n",
        "fprintf('Total cells counted: %d\\n', cell_count);\n",
        "fprintf('Estimated concentration: %.2e cells/mL\\n', concentration);\n"
      ]
    }
  ]
}